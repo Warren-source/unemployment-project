{
 "cells": [
  {
   "cell_type": "markdown",
   "metadata": {},
   "source": [
    "# The Effect Cities have on Unemployment on Surrounding Areas\n",
    "\n",
    "The dataset I'm using is an unemployment dataset from Kaggle. It has the rates of unemployment for each county in the United States for each month of the year from the year 1990 to 2016.\n",
    "\n",
    "I wish to know if there is any substantial difference in states between cities when it comes to unemployment, if a city is more successful, does that in turn create poorer areas around it, like NY or Mumbai?\n",
    "\n",
    "I am using Pandas to organize this dataset."
   ]
  },
  {
   "cell_type": "markdown",
   "metadata": {},
   "source": [
    "### How to run the code\n",
    "\n",
    "This is an executable [*Jupyter notebook*](https://jupyter.org) hosted on [Jovian.ml](https://www.jovian.ml), a platform for sharing data science projects. You can run and experiment with the code in a couple of ways: *using free online resources* (recommended) or *on your own computer*.\n",
    "\n",
    "#### Option 1: Running using free online resources (1-click, recommended)\n",
    "\n",
    "The easiest way to start executing this notebook is to click the \"Run\" button at the top of this page, and select \"Run on Binder\". This will run the notebook on [mybinder.org](https://mybinder.org), a free online service for running Jupyter notebooks. You can also select \"Run on Colab\" or \"Run on Kaggle\".\n",
    "\n",
    "\n",
    "#### Option 2: Running on your computer locally\n",
    "\n",
    "1. Install Conda by [following these instructions](https://conda.io/projects/conda/en/latest/user-guide/install/index.html). Add Conda binaries to your system `PATH`, so you can use the `conda` command on your terminal.\n",
    "\n",
    "2. Create a Conda environment and install the required libraries by running these commands on the terminal:\n",
    "\n",
    "```\n",
    "conda create -n zerotopandas -y python=3.8 \n",
    "conda activate zerotopandas\n",
    "pip install jovian jupyter numpy pandas matplotlib seaborn opendatasets --upgrade\n",
    "```\n",
    "\n",
    "3. Press the \"Clone\" button above to copy the command for downloading the notebook, and run it on the terminal. This will create a new directory and download the notebook. The command will look something like this:\n",
    "\n",
    "```\n",
    "jovian clone notebook-owner/notebook-id\n",
    "```\n",
    "\n",
    "\n",
    "\n",
    "4. Enter the newly created directory using `cd directory-name` and start the Jupyter notebook.\n",
    "\n",
    "```\n",
    "jupyter notebook\n",
    "```\n",
    "\n",
    "You can now access Jupyter's web interface by clicking the link that shows up on the terminal or by visiting http://localhost:8888 on your browser. Click on the notebook file (it has a `.ipynb` extension) to open it.\n"
   ]
  },
  {
   "cell_type": "markdown",
   "metadata": {},
   "source": [
    "## Downloading the Dataset\n",
    "\n",
    "I uploaded this datatset onto Jovian along with this file that you are currently looking at. You can find the dataset if you look at the toolbar and click 'File', 'Open...', and click on 'output.csv'. Alternatively you can go to Kaggle directly and grab it fomr where I got it originally.\n",
    "https://www.kaggle.com/jayrav13/unemployment-by-county-us"
   ]
  },
  {
   "cell_type": "markdown",
   "metadata": {},
   "source": [
    "Let us save and upload our work to Jovian before continuing."
   ]
  },
  {
   "cell_type": "code",
   "execution_count": 1,
   "metadata": {},
   "outputs": [],
   "source": [
    "project_name = \"warrens-unemployment-project\" # change this (use lowercase letters and hyphens only)"
   ]
  },
  {
   "cell_type": "code",
   "execution_count": 2,
   "metadata": {},
   "outputs": [],
   "source": [
    "!pip install jovian --upgrade -q"
   ]
  },
  {
   "cell_type": "code",
   "execution_count": 3,
   "metadata": {},
   "outputs": [],
   "source": [
    "import jovian"
   ]
  },
  {
   "cell_type": "code",
   "execution_count": 4,
   "metadata": {},
   "outputs": [
    {
     "data": {
      "application/javascript": [
       "window.require && require([\"base/js/namespace\"],function(Jupyter){Jupyter.notebook.save_checkpoint()})"
      ],
      "text/plain": [
       "<IPython.core.display.Javascript object>"
      ]
     },
     "metadata": {},
     "output_type": "display_data"
    },
    {
     "name": "stdout",
     "output_type": "stream",
     "text": [
      "[jovian] Attempting to save notebook..\u001b[0m\n",
      "[jovian] Updating notebook \"warren-ball9/warrens-unemployment-project\" on https://jovian.ai\u001b[0m\n",
      "[jovian] Uploading notebook..\u001b[0m\n",
      "[jovian] Uploading additional files...\u001b[0m\n",
      "[jovian] Committed successfully! https://jovian.ai/warren-ball9/warrens-unemployment-project\u001b[0m\n"
     ]
    },
    {
     "data": {
      "text/plain": [
       "'https://jovian.ai/warren-ball9/warrens-unemployment-project'"
      ]
     },
     "execution_count": 4,
     "metadata": {},
     "output_type": "execute_result"
    }
   ],
   "source": [
    "jovian.commit(project=project_name, files = ['output.csv'])"
   ]
  },
  {
   "cell_type": "markdown",
   "metadata": {},
   "source": [
    "## Data Preparation and Cleaning\n",
    "\n",
    "Since this is such a large dataset, we'll just use some general commands to feel out what it's like and see if there's anything wrong before we start making any serious operations on it."
   ]
  },
  {
   "cell_type": "markdown",
   "metadata": {},
   "source": [
    "Let's load up the csv file. As well as any other graphing tools we may need."
   ]
  },
  {
   "cell_type": "code",
   "execution_count": 5,
   "metadata": {},
   "outputs": [],
   "source": [
    "!pip install pandas matplotlib seaborn --upgrade --quiet\n",
    "import pandas as pd\n",
    "import matplotlib.pyplot as plt\n",
    "import seaborn as sns\n",
    "%matplotlib inline"
   ]
  },
  {
   "cell_type": "code",
   "execution_count": 6,
   "metadata": {},
   "outputs": [],
   "source": [
    "unemployment_df = pd.read_csv('output.csv')"
   ]
  },
  {
   "cell_type": "markdown",
   "metadata": {},
   "source": [
    "Just checking general things, like it's shape, any missing values, etc. Just so we know what we're working with."
   ]
  },
  {
   "cell_type": "code",
   "execution_count": 7,
   "metadata": {},
   "outputs": [
    {
     "data": {
      "text/html": [
       "<div>\n",
       "<style scoped>\n",
       "    .dataframe tbody tr th:only-of-type {\n",
       "        vertical-align: middle;\n",
       "    }\n",
       "\n",
       "    .dataframe tbody tr th {\n",
       "        vertical-align: top;\n",
       "    }\n",
       "\n",
       "    .dataframe thead th {\n",
       "        text-align: right;\n",
       "    }\n",
       "</style>\n",
       "<table border=\"1\" class=\"dataframe\">\n",
       "  <thead>\n",
       "    <tr style=\"text-align: right;\">\n",
       "      <th></th>\n",
       "      <th>Year</th>\n",
       "      <th>Month</th>\n",
       "      <th>State</th>\n",
       "      <th>County</th>\n",
       "      <th>Rate</th>\n",
       "    </tr>\n",
       "  </thead>\n",
       "  <tbody>\n",
       "    <tr>\n",
       "      <th>0</th>\n",
       "      <td>2015</td>\n",
       "      <td>February</td>\n",
       "      <td>Mississippi</td>\n",
       "      <td>Newton County</td>\n",
       "      <td>6.1</td>\n",
       "    </tr>\n",
       "    <tr>\n",
       "      <th>1</th>\n",
       "      <td>2015</td>\n",
       "      <td>February</td>\n",
       "      <td>Mississippi</td>\n",
       "      <td>Panola County</td>\n",
       "      <td>9.4</td>\n",
       "    </tr>\n",
       "    <tr>\n",
       "      <th>2</th>\n",
       "      <td>2015</td>\n",
       "      <td>February</td>\n",
       "      <td>Mississippi</td>\n",
       "      <td>Monroe County</td>\n",
       "      <td>7.9</td>\n",
       "    </tr>\n",
       "    <tr>\n",
       "      <th>3</th>\n",
       "      <td>2015</td>\n",
       "      <td>February</td>\n",
       "      <td>Mississippi</td>\n",
       "      <td>Hinds County</td>\n",
       "      <td>6.1</td>\n",
       "    </tr>\n",
       "    <tr>\n",
       "      <th>4</th>\n",
       "      <td>2015</td>\n",
       "      <td>February</td>\n",
       "      <td>Mississippi</td>\n",
       "      <td>Kemper County</td>\n",
       "      <td>10.6</td>\n",
       "    </tr>\n",
       "    <tr>\n",
       "      <th>...</th>\n",
       "      <td>...</td>\n",
       "      <td>...</td>\n",
       "      <td>...</td>\n",
       "      <td>...</td>\n",
       "      <td>...</td>\n",
       "    </tr>\n",
       "    <tr>\n",
       "      <th>885543</th>\n",
       "      <td>2009</td>\n",
       "      <td>November</td>\n",
       "      <td>Maine</td>\n",
       "      <td>Somerset County</td>\n",
       "      <td>10.5</td>\n",
       "    </tr>\n",
       "    <tr>\n",
       "      <th>885544</th>\n",
       "      <td>2009</td>\n",
       "      <td>November</td>\n",
       "      <td>Maine</td>\n",
       "      <td>Oxford County</td>\n",
       "      <td>10.5</td>\n",
       "    </tr>\n",
       "    <tr>\n",
       "      <th>885545</th>\n",
       "      <td>2009</td>\n",
       "      <td>November</td>\n",
       "      <td>Maine</td>\n",
       "      <td>Knox County</td>\n",
       "      <td>7.5</td>\n",
       "    </tr>\n",
       "    <tr>\n",
       "      <th>885546</th>\n",
       "      <td>2009</td>\n",
       "      <td>November</td>\n",
       "      <td>Maine</td>\n",
       "      <td>Piscataquis County</td>\n",
       "      <td>11.3</td>\n",
       "    </tr>\n",
       "    <tr>\n",
       "      <th>885547</th>\n",
       "      <td>2009</td>\n",
       "      <td>November</td>\n",
       "      <td>Maine</td>\n",
       "      <td>Aroostook County</td>\n",
       "      <td>9.0</td>\n",
       "    </tr>\n",
       "  </tbody>\n",
       "</table>\n",
       "<p>885548 rows × 5 columns</p>\n",
       "</div>"
      ],
      "text/plain": [
       "        Year     Month        State              County  Rate\n",
       "0       2015  February  Mississippi       Newton County   6.1\n",
       "1       2015  February  Mississippi       Panola County   9.4\n",
       "2       2015  February  Mississippi       Monroe County   7.9\n",
       "3       2015  February  Mississippi        Hinds County   6.1\n",
       "4       2015  February  Mississippi       Kemper County  10.6\n",
       "...      ...       ...          ...                 ...   ...\n",
       "885543  2009  November        Maine     Somerset County  10.5\n",
       "885544  2009  November        Maine       Oxford County  10.5\n",
       "885545  2009  November        Maine         Knox County   7.5\n",
       "885546  2009  November        Maine  Piscataquis County  11.3\n",
       "885547  2009  November        Maine    Aroostook County   9.0\n",
       "\n",
       "[885548 rows x 5 columns]"
      ]
     },
     "execution_count": 7,
     "metadata": {},
     "output_type": "execute_result"
    }
   ],
   "source": [
    "unemployment_df"
   ]
  },
  {
   "cell_type": "code",
   "execution_count": 8,
   "metadata": {},
   "outputs": [
    {
     "name": "stdout",
     "output_type": "stream",
     "text": [
      "<class 'pandas.core.frame.DataFrame'>\n",
      "RangeIndex: 885548 entries, 0 to 885547\n",
      "Data columns (total 5 columns):\n",
      " #   Column  Non-Null Count   Dtype  \n",
      "---  ------  --------------   -----  \n",
      " 0   Year    885548 non-null  int64  \n",
      " 1   Month   885548 non-null  object \n",
      " 2   State   885548 non-null  object \n",
      " 3   County  885548 non-null  object \n",
      " 4   Rate    885548 non-null  float64\n",
      "dtypes: float64(1), int64(1), object(3)\n",
      "memory usage: 33.8+ MB\n"
     ]
    }
   ],
   "source": [
    "unemployment_df.info()"
   ]
  },
  {
   "cell_type": "code",
   "execution_count": 9,
   "metadata": {},
   "outputs": [
    {
     "data": {
      "text/html": [
       "<div>\n",
       "<style scoped>\n",
       "    .dataframe tbody tr th:only-of-type {\n",
       "        vertical-align: middle;\n",
       "    }\n",
       "\n",
       "    .dataframe tbody tr th {\n",
       "        vertical-align: top;\n",
       "    }\n",
       "\n",
       "    .dataframe thead th {\n",
       "        text-align: right;\n",
       "    }\n",
       "</style>\n",
       "<table border=\"1\" class=\"dataframe\">\n",
       "  <thead>\n",
       "    <tr style=\"text-align: right;\">\n",
       "      <th></th>\n",
       "      <th>Year</th>\n",
       "      <th>Rate</th>\n",
       "    </tr>\n",
       "  </thead>\n",
       "  <tbody>\n",
       "    <tr>\n",
       "      <th>count</th>\n",
       "      <td>885548.000000</td>\n",
       "      <td>885548.000000</td>\n",
       "    </tr>\n",
       "    <tr>\n",
       "      <th>mean</th>\n",
       "      <td>2003.000017</td>\n",
       "      <td>6.175010</td>\n",
       "    </tr>\n",
       "    <tr>\n",
       "      <th>std</th>\n",
       "      <td>7.824893</td>\n",
       "      <td>3.112535</td>\n",
       "    </tr>\n",
       "    <tr>\n",
       "      <th>min</th>\n",
       "      <td>1990.000000</td>\n",
       "      <td>0.000000</td>\n",
       "    </tr>\n",
       "    <tr>\n",
       "      <th>25%</th>\n",
       "      <td>1996.000000</td>\n",
       "      <td>4.000000</td>\n",
       "    </tr>\n",
       "    <tr>\n",
       "      <th>50%</th>\n",
       "      <td>2003.000000</td>\n",
       "      <td>5.500000</td>\n",
       "    </tr>\n",
       "    <tr>\n",
       "      <th>75%</th>\n",
       "      <td>2010.000000</td>\n",
       "      <td>7.700000</td>\n",
       "    </tr>\n",
       "    <tr>\n",
       "      <th>max</th>\n",
       "      <td>2016.000000</td>\n",
       "      <td>58.400000</td>\n",
       "    </tr>\n",
       "  </tbody>\n",
       "</table>\n",
       "</div>"
      ],
      "text/plain": [
       "                Year           Rate\n",
       "count  885548.000000  885548.000000\n",
       "mean     2003.000017       6.175010\n",
       "std         7.824893       3.112535\n",
       "min      1990.000000       0.000000\n",
       "25%      1996.000000       4.000000\n",
       "50%      2003.000000       5.500000\n",
       "75%      2010.000000       7.700000\n",
       "max      2016.000000      58.400000"
      ]
     },
     "execution_count": 9,
     "metadata": {},
     "output_type": "execute_result"
    }
   ],
   "source": [
    "unemployment_df.describe()"
   ]
  },
  {
   "cell_type": "code",
   "execution_count": 10,
   "metadata": {},
   "outputs": [
    {
     "data": {
      "text/plain": [
       "Index(['Year', 'Month', 'State', 'County', 'Rate'], dtype='object')"
      ]
     },
     "execution_count": 10,
     "metadata": {},
     "output_type": "execute_result"
    }
   ],
   "source": [
    "unemployment_df.columns"
   ]
  },
  {
   "cell_type": "code",
   "execution_count": 11,
   "metadata": {},
   "outputs": [
    {
     "data": {
      "text/plain": [
       "(885548, 5)"
      ]
     },
     "execution_count": 11,
     "metadata": {},
     "output_type": "execute_result"
    }
   ],
   "source": [
    "unemployment_df.shape"
   ]
  },
  {
   "cell_type": "markdown",
   "metadata": {},
   "source": [
    "Let's also check if it includes all 50 states."
   ]
  },
  {
   "cell_type": "code",
   "execution_count": 12,
   "metadata": {},
   "outputs": [
    {
     "data": {
      "text/plain": [
       "array(['Mississippi', 'Oklahoma', 'Delaware', 'Minnesota', 'Illinois',\n",
       "       'Arkansas', 'New Mexico', 'Indiana', 'Maryland', 'Louisiana',\n",
       "       'Idaho', 'Wyoming', 'Tennessee', 'Arizona', 'Iowa', 'Kansas',\n",
       "       'Utah', 'Virginia', 'Oregon', 'Connecticut', 'Montana',\n",
       "       'California', 'Massachusetts', 'West Virginia', 'South Carolina',\n",
       "       'New Hampshire', 'Wisconsin', 'Vermont', 'North Dakota',\n",
       "       'Pennsylvania', 'Kentucky', 'Hawaii', 'Nebraska', 'Missouri',\n",
       "       'Ohio', 'Alabama', 'Rhode Island', 'South Dakota', 'Colorado',\n",
       "       'New Jersey', 'Washington', 'North Carolina', 'New York', 'Texas',\n",
       "       'Nevada', 'Maine', 'Michigan'], dtype=object)"
      ]
     },
     "execution_count": 12,
     "metadata": {},
     "output_type": "execute_result"
    }
   ],
   "source": [
    "all_states = unemployment_df.State.unique()\n",
    "\n",
    "all_states"
   ]
  },
  {
   "cell_type": "markdown",
   "metadata": {},
   "source": [
    "Oddly enough, it doesn't, it appears to be missing Florida and Georgia. We'll just have to work around that, and take some of our findings with a grain of salt."
   ]
  },
  {
   "cell_type": "markdown",
   "metadata": {},
   "source": [
    "It also appears that it's not organized by year, or month, rate. Perhaps by State, but not alphabetically, at least. Thankfully, I won't be needing this entire dataset, I'll only be using data from the most recent year. Unfortuneately, we can't tell this by looking at the top or bottom 10 of the dataset, so we'll use .max(). We'll also make it a copy, since we may want to modify this new dataframe."
   ]
  },
  {
   "cell_type": "code",
   "execution_count": 13,
   "metadata": {},
   "outputs": [],
   "source": [
    "#only keeping 2016\n",
    "recent_year_df = unemployment_df[unemployment_df.Year == unemployment_df.Year.max()].copy()\n"
   ]
  },
  {
   "cell_type": "markdown",
   "metadata": {},
   "source": [
    "Okay, before we do anything, we need to organize it in some way. By month will be fine. However, since the months aren't in a date format, we'll have to convert it to numbers and organize it that way."
   ]
  },
  {
   "cell_type": "code",
   "execution_count": 14,
   "metadata": {},
   "outputs": [
    {
     "data": {
      "text/html": [
       "<div>\n",
       "<style scoped>\n",
       "    .dataframe tbody tr th:only-of-type {\n",
       "        vertical-align: middle;\n",
       "    }\n",
       "\n",
       "    .dataframe tbody tr th {\n",
       "        vertical-align: top;\n",
       "    }\n",
       "\n",
       "    .dataframe thead th {\n",
       "        text-align: right;\n",
       "    }\n",
       "</style>\n",
       "<table border=\"1\" class=\"dataframe\">\n",
       "  <thead>\n",
       "    <tr style=\"text-align: right;\">\n",
       "      <th></th>\n",
       "      <th>Year</th>\n",
       "      <th>Month</th>\n",
       "      <th>State</th>\n",
       "      <th>County</th>\n",
       "      <th>Rate</th>\n",
       "      <th>number_month</th>\n",
       "    </tr>\n",
       "  </thead>\n",
       "  <tbody>\n",
       "    <tr>\n",
       "      <th>84337</th>\n",
       "      <td>2016</td>\n",
       "      <td>January</td>\n",
       "      <td>Alabama</td>\n",
       "      <td>Autauga County</td>\n",
       "      <td>5.4</td>\n",
       "      <td>1</td>\n",
       "    </tr>\n",
       "    <tr>\n",
       "      <th>84399</th>\n",
       "      <td>2016</td>\n",
       "      <td>January</td>\n",
       "      <td>Alabama</td>\n",
       "      <td>Baldwin County</td>\n",
       "      <td>6.0</td>\n",
       "      <td>1</td>\n",
       "    </tr>\n",
       "    <tr>\n",
       "      <th>84386</th>\n",
       "      <td>2016</td>\n",
       "      <td>January</td>\n",
       "      <td>Alabama</td>\n",
       "      <td>Barbour County</td>\n",
       "      <td>9.0</td>\n",
       "      <td>1</td>\n",
       "    </tr>\n",
       "    <tr>\n",
       "      <th>84370</th>\n",
       "      <td>2016</td>\n",
       "      <td>January</td>\n",
       "      <td>Alabama</td>\n",
       "      <td>Bibb County</td>\n",
       "      <td>7.1</td>\n",
       "      <td>1</td>\n",
       "    </tr>\n",
       "    <tr>\n",
       "      <th>84385</th>\n",
       "      <td>2016</td>\n",
       "      <td>January</td>\n",
       "      <td>Alabama</td>\n",
       "      <td>Blount County</td>\n",
       "      <td>5.8</td>\n",
       "      <td>1</td>\n",
       "    </tr>\n",
       "    <tr>\n",
       "      <th>...</th>\n",
       "      <td>...</td>\n",
       "      <td>...</td>\n",
       "      <td>...</td>\n",
       "      <td>...</td>\n",
       "      <td>...</td>\n",
       "      <td>...</td>\n",
       "    </tr>\n",
       "    <tr>\n",
       "      <th>94322</th>\n",
       "      <td>2016</td>\n",
       "      <td>December</td>\n",
       "      <td>Wyoming</td>\n",
       "      <td>Sweetwater County</td>\n",
       "      <td>5.3</td>\n",
       "      <td>12</td>\n",
       "    </tr>\n",
       "    <tr>\n",
       "      <th>94341</th>\n",
       "      <td>2016</td>\n",
       "      <td>December</td>\n",
       "      <td>Wyoming</td>\n",
       "      <td>Teton County</td>\n",
       "      <td>3.6</td>\n",
       "      <td>12</td>\n",
       "    </tr>\n",
       "    <tr>\n",
       "      <th>94343</th>\n",
       "      <td>2016</td>\n",
       "      <td>December</td>\n",
       "      <td>Wyoming</td>\n",
       "      <td>Uinta County</td>\n",
       "      <td>5.1</td>\n",
       "      <td>12</td>\n",
       "    </tr>\n",
       "    <tr>\n",
       "      <th>94342</th>\n",
       "      <td>2016</td>\n",
       "      <td>December</td>\n",
       "      <td>Wyoming</td>\n",
       "      <td>Washakie County</td>\n",
       "      <td>4.1</td>\n",
       "      <td>12</td>\n",
       "    </tr>\n",
       "    <tr>\n",
       "      <th>94326</th>\n",
       "      <td>2016</td>\n",
       "      <td>December</td>\n",
       "      <td>Wyoming</td>\n",
       "      <td>Weston County</td>\n",
       "      <td>4.5</td>\n",
       "      <td>12</td>\n",
       "    </tr>\n",
       "  </tbody>\n",
       "</table>\n",
       "<p>34306 rows × 6 columns</p>\n",
       "</div>"
      ],
      "text/plain": [
       "       Year     Month    State             County  Rate  number_month\n",
       "84337  2016   January  Alabama     Autauga County   5.4             1\n",
       "84399  2016   January  Alabama     Baldwin County   6.0             1\n",
       "84386  2016   January  Alabama     Barbour County   9.0             1\n",
       "84370  2016   January  Alabama        Bibb County   7.1             1\n",
       "84385  2016   January  Alabama      Blount County   5.8             1\n",
       "...     ...       ...      ...                ...   ...           ...\n",
       "94322  2016  December  Wyoming  Sweetwater County   5.3            12\n",
       "94341  2016  December  Wyoming       Teton County   3.6            12\n",
       "94343  2016  December  Wyoming       Uinta County   5.1            12\n",
       "94342  2016  December  Wyoming    Washakie County   4.1            12\n",
       "94326  2016  December  Wyoming      Weston County   4.5            12\n",
       "\n",
       "[34306 rows x 6 columns]"
      ]
     },
     "execution_count": 14,
     "metadata": {},
     "output_type": "execute_result"
    }
   ],
   "source": [
    "#we'll make a dictionary of all the months and give a corresponding number\n",
    "month_converter = {\"January\":1, \"February\":2, \"March\":3, \"April\":4, \"May\":5, \"June\":6, \"July\":7, \"August\":8,\n",
    "                   \"September\":9, \"October\":10, \"November\":11, \"December\":12}\n",
    "#now create a Series using the months\n",
    "month_add_on = recent_year_df.Month.map(month_converter)\n",
    "#now add on the number months\n",
    "recent_year_df['number_month'] = month_add_on\n",
    "#finally sort the whole thing by the number months\n",
    "recent_year_df = recent_year_df.sort_values(by = ['number_month', 'State', 'County'], ascending = True)\n",
    "recent_year_df"
   ]
  },
  {
   "cell_type": "markdown",
   "metadata": {},
   "source": [
    "Okay, much better. With everything reasonably organized, we can start."
   ]
  },
  {
   "cell_type": "markdown",
   "metadata": {},
   "source": [
    "## Exploratory Analysis and Visualization\n",
    "\n",
    "Before we start asking any questions about unemployment, let's find the average to get a feel of what unemployment is like in a general sense."
   ]
  },
  {
   "cell_type": "code",
   "execution_count": 15,
   "metadata": {},
   "outputs": [
    {
     "data": {
      "text/plain": [
       "5.1606803474610805"
      ]
     },
     "execution_count": 15,
     "metadata": {},
     "output_type": "execute_result"
    }
   ],
   "source": [
    "recent_year_df.Rate.mean()"
   ]
  },
  {
   "cell_type": "markdown",
   "metadata": {},
   "source": [
    "Alright, about 5.16%. Now we have a general idea of what an expected unemployment rate looks like."
   ]
  },
  {
   "cell_type": "markdown",
   "metadata": {},
   "source": [
    "## Asking and Answering Questions\n",
    "\n",
    "Now that we've organized and set a baseline for unemployment, we can start asking and questions and running data to find results."
   ]
  },
  {
   "cell_type": "markdown",
   "metadata": {},
   "source": [
    "The first question I wish to know is if cities makes the unemployment worse in the surrounding areas due to \"brain drain\", an economic theory that the most productive and brightest people from an area would move to a richer area with more opportunites, rather than staying in their home towns or countries, thereby giving the richer area an even greater variety of talented people. We'll use New York City to help with this question."
   ]
  },
  {
   "cell_type": "code",
   "execution_count": 16,
   "metadata": {},
   "outputs": [],
   "source": [
    "# we'll grab the most recent month\n",
    "recent_month_df = recent_year_df[recent_year_df.Month == \"December\"]"
   ]
  },
  {
   "cell_type": "code",
   "execution_count": 17,
   "metadata": {},
   "outputs": [
    {
     "data": {
      "text/html": [
       "<div>\n",
       "<style scoped>\n",
       "    .dataframe tbody tr th:only-of-type {\n",
       "        vertical-align: middle;\n",
       "    }\n",
       "\n",
       "    .dataframe tbody tr th {\n",
       "        vertical-align: top;\n",
       "    }\n",
       "\n",
       "    .dataframe thead th {\n",
       "        text-align: right;\n",
       "    }\n",
       "</style>\n",
       "<table border=\"1\" class=\"dataframe\">\n",
       "  <thead>\n",
       "    <tr style=\"text-align: right;\">\n",
       "      <th></th>\n",
       "      <th>Year</th>\n",
       "      <th>Month</th>\n",
       "      <th>State</th>\n",
       "      <th>County</th>\n",
       "      <th>Rate</th>\n",
       "      <th>number_month</th>\n",
       "    </tr>\n",
       "  </thead>\n",
       "  <tbody>\n",
       "    <tr>\n",
       "      <th>96211</th>\n",
       "      <td>2016</td>\n",
       "      <td>December</td>\n",
       "      <td>New York</td>\n",
       "      <td>Albany County</td>\n",
       "      <td>3.8</td>\n",
       "      <td>12</td>\n",
       "    </tr>\n",
       "    <tr>\n",
       "      <th>96196</th>\n",
       "      <td>2016</td>\n",
       "      <td>December</td>\n",
       "      <td>New York</td>\n",
       "      <td>Allegany County</td>\n",
       "      <td>5.6</td>\n",
       "      <td>12</td>\n",
       "    </tr>\n",
       "    <tr>\n",
       "      <th>96201</th>\n",
       "      <td>2016</td>\n",
       "      <td>December</td>\n",
       "      <td>New York</td>\n",
       "      <td>Bronx County</td>\n",
       "      <td>6.2</td>\n",
       "      <td>12</td>\n",
       "    </tr>\n",
       "    <tr>\n",
       "      <th>96189</th>\n",
       "      <td>2016</td>\n",
       "      <td>December</td>\n",
       "      <td>New York</td>\n",
       "      <td>Broome County</td>\n",
       "      <td>5.4</td>\n",
       "      <td>12</td>\n",
       "    </tr>\n",
       "    <tr>\n",
       "      <th>96212</th>\n",
       "      <td>2016</td>\n",
       "      <td>December</td>\n",
       "      <td>New York</td>\n",
       "      <td>Cattaraugus County</td>\n",
       "      <td>6.1</td>\n",
       "      <td>12</td>\n",
       "    </tr>\n",
       "    <tr>\n",
       "      <th>...</th>\n",
       "      <td>...</td>\n",
       "      <td>...</td>\n",
       "      <td>...</td>\n",
       "      <td>...</td>\n",
       "      <td>...</td>\n",
       "      <td>...</td>\n",
       "    </tr>\n",
       "    <tr>\n",
       "      <th>96217</th>\n",
       "      <td>2016</td>\n",
       "      <td>December</td>\n",
       "      <td>New York</td>\n",
       "      <td>Washington County</td>\n",
       "      <td>4.9</td>\n",
       "      <td>12</td>\n",
       "    </tr>\n",
       "    <tr>\n",
       "      <th>96176</th>\n",
       "      <td>2016</td>\n",
       "      <td>December</td>\n",
       "      <td>New York</td>\n",
       "      <td>Wayne County</td>\n",
       "      <td>5.2</td>\n",
       "      <td>12</td>\n",
       "    </tr>\n",
       "    <tr>\n",
       "      <th>96207</th>\n",
       "      <td>2016</td>\n",
       "      <td>December</td>\n",
       "      <td>New York</td>\n",
       "      <td>Westchester County</td>\n",
       "      <td>4.0</td>\n",
       "      <td>12</td>\n",
       "    </tr>\n",
       "    <tr>\n",
       "      <th>96178</th>\n",
       "      <td>2016</td>\n",
       "      <td>December</td>\n",
       "      <td>New York</td>\n",
       "      <td>Wyoming County</td>\n",
       "      <td>6.1</td>\n",
       "      <td>12</td>\n",
       "    </tr>\n",
       "    <tr>\n",
       "      <th>96182</th>\n",
       "      <td>2016</td>\n",
       "      <td>December</td>\n",
       "      <td>New York</td>\n",
       "      <td>Yates County</td>\n",
       "      <td>4.6</td>\n",
       "      <td>12</td>\n",
       "    </tr>\n",
       "  </tbody>\n",
       "</table>\n",
       "<p>62 rows × 6 columns</p>\n",
       "</div>"
      ],
      "text/plain": [
       "       Year     Month     State              County  Rate  number_month\n",
       "96211  2016  December  New York       Albany County   3.8            12\n",
       "96196  2016  December  New York     Allegany County   5.6            12\n",
       "96201  2016  December  New York        Bronx County   6.2            12\n",
       "96189  2016  December  New York       Broome County   5.4            12\n",
       "96212  2016  December  New York  Cattaraugus County   6.1            12\n",
       "...     ...       ...       ...                 ...   ...           ...\n",
       "96217  2016  December  New York   Washington County   4.9            12\n",
       "96176  2016  December  New York        Wayne County   5.2            12\n",
       "96207  2016  December  New York  Westchester County   4.0            12\n",
       "96178  2016  December  New York      Wyoming County   6.1            12\n",
       "96182  2016  December  New York        Yates County   4.6            12\n",
       "\n",
       "[62 rows x 6 columns]"
      ]
     },
     "execution_count": 17,
     "metadata": {},
     "output_type": "execute_result"
    }
   ],
   "source": [
    "recent_NY_df = recent_month_df[recent_month_df.State == \"New York\"]\n",
    "\n",
    "recent_NY_df"
   ]
  },
  {
   "cell_type": "code",
   "execution_count": 18,
   "metadata": {},
   "outputs": [
    {
     "data": {
      "text/html": [
       "<div>\n",
       "<style scoped>\n",
       "    .dataframe tbody tr th:only-of-type {\n",
       "        vertical-align: middle;\n",
       "    }\n",
       "\n",
       "    .dataframe tbody tr th {\n",
       "        vertical-align: top;\n",
       "    }\n",
       "\n",
       "    .dataframe thead th {\n",
       "        text-align: right;\n",
       "    }\n",
       "</style>\n",
       "<table border=\"1\" class=\"dataframe\">\n",
       "  <thead>\n",
       "    <tr style=\"text-align: right;\">\n",
       "      <th></th>\n",
       "      <th>Year</th>\n",
       "      <th>Month</th>\n",
       "      <th>State</th>\n",
       "      <th>County</th>\n",
       "      <th>Rate</th>\n",
       "      <th>number_month</th>\n",
       "    </tr>\n",
       "  </thead>\n",
       "  <tbody>\n",
       "    <tr>\n",
       "      <th>96233</th>\n",
       "      <td>2016</td>\n",
       "      <td>December</td>\n",
       "      <td>New York</td>\n",
       "      <td>Hamilton County</td>\n",
       "      <td>9.2</td>\n",
       "      <td>12</td>\n",
       "    </tr>\n",
       "    <tr>\n",
       "      <th>96194</th>\n",
       "      <td>2016</td>\n",
       "      <td>December</td>\n",
       "      <td>New York</td>\n",
       "      <td>Lewis County</td>\n",
       "      <td>7.8</td>\n",
       "      <td>12</td>\n",
       "    </tr>\n",
       "    <tr>\n",
       "      <th>96181</th>\n",
       "      <td>2016</td>\n",
       "      <td>December</td>\n",
       "      <td>New York</td>\n",
       "      <td>Jefferson County</td>\n",
       "      <td>7.0</td>\n",
       "      <td>12</td>\n",
       "    </tr>\n",
       "    <tr>\n",
       "      <th>96195</th>\n",
       "      <td>2016</td>\n",
       "      <td>December</td>\n",
       "      <td>New York</td>\n",
       "      <td>Oswego County</td>\n",
       "      <td>6.7</td>\n",
       "      <td>12</td>\n",
       "    </tr>\n",
       "    <tr>\n",
       "      <th>96183</th>\n",
       "      <td>2016</td>\n",
       "      <td>December</td>\n",
       "      <td>New York</td>\n",
       "      <td>Schuyler County</td>\n",
       "      <td>6.5</td>\n",
       "      <td>12</td>\n",
       "    </tr>\n",
       "    <tr>\n",
       "      <th>...</th>\n",
       "      <td>...</td>\n",
       "      <td>...</td>\n",
       "      <td>...</td>\n",
       "      <td>...</td>\n",
       "      <td>...</td>\n",
       "      <td>...</td>\n",
       "    </tr>\n",
       "    <tr>\n",
       "      <th>96190</th>\n",
       "      <td>2016</td>\n",
       "      <td>December</td>\n",
       "      <td>New York</td>\n",
       "      <td>Saratoga County</td>\n",
       "      <td>3.8</td>\n",
       "      <td>12</td>\n",
       "    </tr>\n",
       "    <tr>\n",
       "      <th>96211</th>\n",
       "      <td>2016</td>\n",
       "      <td>December</td>\n",
       "      <td>New York</td>\n",
       "      <td>Albany County</td>\n",
       "      <td>3.8</td>\n",
       "      <td>12</td>\n",
       "    </tr>\n",
       "    <tr>\n",
       "      <th>96214</th>\n",
       "      <td>2016</td>\n",
       "      <td>December</td>\n",
       "      <td>New York</td>\n",
       "      <td>Nassau County</td>\n",
       "      <td>3.6</td>\n",
       "      <td>12</td>\n",
       "    </tr>\n",
       "    <tr>\n",
       "      <th>96227</th>\n",
       "      <td>2016</td>\n",
       "      <td>December</td>\n",
       "      <td>New York</td>\n",
       "      <td>Columbia County</td>\n",
       "      <td>3.6</td>\n",
       "      <td>12</td>\n",
       "    </tr>\n",
       "    <tr>\n",
       "      <th>96235</th>\n",
       "      <td>2016</td>\n",
       "      <td>December</td>\n",
       "      <td>New York</td>\n",
       "      <td>Tompkins County</td>\n",
       "      <td>3.4</td>\n",
       "      <td>12</td>\n",
       "    </tr>\n",
       "  </tbody>\n",
       "</table>\n",
       "<p>62 rows × 6 columns</p>\n",
       "</div>"
      ],
      "text/plain": [
       "       Year     Month     State            County  Rate  number_month\n",
       "96233  2016  December  New York   Hamilton County   9.2            12\n",
       "96194  2016  December  New York      Lewis County   7.8            12\n",
       "96181  2016  December  New York  Jefferson County   7.0            12\n",
       "96195  2016  December  New York     Oswego County   6.7            12\n",
       "96183  2016  December  New York   Schuyler County   6.5            12\n",
       "...     ...       ...       ...               ...   ...           ...\n",
       "96190  2016  December  New York   Saratoga County   3.8            12\n",
       "96211  2016  December  New York     Albany County   3.8            12\n",
       "96214  2016  December  New York     Nassau County   3.6            12\n",
       "96227  2016  December  New York   Columbia County   3.6            12\n",
       "96235  2016  December  New York   Tompkins County   3.4            12\n",
       "\n",
       "[62 rows x 6 columns]"
      ]
     },
     "execution_count": 18,
     "metadata": {},
     "output_type": "execute_result"
    }
   ],
   "source": [
    "recent_NY_df.sort_values('Rate', ascending = False)\n"
   ]
  },
  {
   "cell_type": "code",
   "execution_count": 19,
   "metadata": {},
   "outputs": [
    {
     "data": {
      "text/html": [
       "<div>\n",
       "<style scoped>\n",
       "    .dataframe tbody tr th:only-of-type {\n",
       "        vertical-align: middle;\n",
       "    }\n",
       "\n",
       "    .dataframe tbody tr th {\n",
       "        vertical-align: top;\n",
       "    }\n",
       "\n",
       "    .dataframe thead th {\n",
       "        text-align: right;\n",
       "    }\n",
       "</style>\n",
       "<table border=\"1\" class=\"dataframe\">\n",
       "  <thead>\n",
       "    <tr style=\"text-align: right;\">\n",
       "      <th></th>\n",
       "      <th>Year</th>\n",
       "      <th>Month</th>\n",
       "      <th>State</th>\n",
       "      <th>County</th>\n",
       "      <th>Rate</th>\n",
       "      <th>number_month</th>\n",
       "    </tr>\n",
       "  </thead>\n",
       "  <tbody>\n",
       "    <tr>\n",
       "      <th>96205</th>\n",
       "      <td>2016</td>\n",
       "      <td>December</td>\n",
       "      <td>New York</td>\n",
       "      <td>New York County</td>\n",
       "      <td>3.9</td>\n",
       "      <td>12</td>\n",
       "    </tr>\n",
       "  </tbody>\n",
       "</table>\n",
       "</div>"
      ],
      "text/plain": [
       "       Year     Month     State           County  Rate  number_month\n",
       "96205  2016  December  New York  New York County   3.9            12"
      ]
     },
     "execution_count": 19,
     "metadata": {},
     "output_type": "execute_result"
    }
   ],
   "source": [
    "current_county = recent_NY_df[recent_NY_df.County == \"New York County\"]\n",
    "current_county"
   ]
  },
  {
   "cell_type": "code",
   "execution_count": 20,
   "metadata": {},
   "outputs": [
    {
     "data": {
      "text/html": [
       "<div>\n",
       "<style scoped>\n",
       "    .dataframe tbody tr th:only-of-type {\n",
       "        vertical-align: middle;\n",
       "    }\n",
       "\n",
       "    .dataframe tbody tr th {\n",
       "        vertical-align: top;\n",
       "    }\n",
       "\n",
       "    .dataframe thead th {\n",
       "        text-align: right;\n",
       "    }\n",
       "</style>\n",
       "<table border=\"1\" class=\"dataframe\">\n",
       "  <thead>\n",
       "    <tr style=\"text-align: right;\">\n",
       "      <th></th>\n",
       "      <th>Year</th>\n",
       "      <th>Month</th>\n",
       "      <th>State</th>\n",
       "      <th>County</th>\n",
       "      <th>Rate</th>\n",
       "      <th>number_month</th>\n",
       "    </tr>\n",
       "  </thead>\n",
       "  <tbody>\n",
       "    <tr>\n",
       "      <th>96201</th>\n",
       "      <td>2016</td>\n",
       "      <td>December</td>\n",
       "      <td>New York</td>\n",
       "      <td>Bronx County</td>\n",
       "      <td>6.2</td>\n",
       "      <td>12</td>\n",
       "    </tr>\n",
       "  </tbody>\n",
       "</table>\n",
       "</div>"
      ],
      "text/plain": [
       "       Year     Month     State        County  Rate  number_month\n",
       "96201  2016  December  New York  Bronx County   6.2            12"
      ]
     },
     "execution_count": 20,
     "metadata": {},
     "output_type": "execute_result"
    }
   ],
   "source": [
    "current_county = recent_NY_df[recent_NY_df.County == \"Bronx County\"]\n",
    "current_county"
   ]
  },
  {
   "cell_type": "markdown",
   "metadata": {},
   "source": [
    "Now that is immediately interesting, Bronx is 2.3% higher. This by itself doesn't seem very conclusive, though. First of all, let's find the average unemployment of the US in the month of December, just so we have a more accurate standard."
   ]
  },
  {
   "cell_type": "code",
   "execution_count": 21,
   "metadata": {},
   "outputs": [
    {
     "data": {
      "text/plain": [
       "4.96221837088388"
      ]
     },
     "execution_count": 21,
     "metadata": {},
     "output_type": "execute_result"
    }
   ],
   "source": [
    "recent_month_df.Rate.mean()"
   ]
  },
  {
   "cell_type": "markdown",
   "metadata": {},
   "source": [
    "So at that time, Manhattan, which is located in New York County, was below the national unemployment at the time, by 1%. Whilst neighboring Bronx was above the national rate by 1.3%. Let's look at a span of months between these 2 counties. To see how their respective unemployment rates correlated at all."
   ]
  },
  {
   "cell_type": "code",
   "execution_count": 22,
   "metadata": {},
   "outputs": [],
   "source": [
    "# let's look over the whole year\n",
    "only_NY_County_df = recent_year_df[recent_year_df.County == \"New York County\"]\n",
    "only_Bronx_County_df = recent_year_df[recent_year_df.County == \"Bronx County\"]\n",
    "only_NY_County_df_copy = only_NY_County_df.copy()\n",
    "only_Bronx_County_df_copy = only_Bronx_County_df.copy()\n"
   ]
  },
  {
   "cell_type": "markdown",
   "metadata": {},
   "source": [
    "Thankfully, it's already organized by month. So all we must do is set the index by month so our graphs make sense."
   ]
  },
  {
   "cell_type": "code",
   "execution_count": 23,
   "metadata": {},
   "outputs": [],
   "source": [
    "only_NY_County_df_copy.set_index('number_month', inplace = True)\n",
    "only_Bronx_County_df_copy.set_index('number_month', inplace = True)"
   ]
  },
  {
   "cell_type": "code",
   "execution_count": 24,
   "metadata": {},
   "outputs": [
    {
     "data": {
      "text/html": [
       "<div>\n",
       "<style scoped>\n",
       "    .dataframe tbody tr th:only-of-type {\n",
       "        vertical-align: middle;\n",
       "    }\n",
       "\n",
       "    .dataframe tbody tr th {\n",
       "        vertical-align: top;\n",
       "    }\n",
       "\n",
       "    .dataframe thead th {\n",
       "        text-align: right;\n",
       "    }\n",
       "</style>\n",
       "<table border=\"1\" class=\"dataframe\">\n",
       "  <thead>\n",
       "    <tr style=\"text-align: right;\">\n",
       "      <th></th>\n",
       "      <th>Year</th>\n",
       "      <th>Month</th>\n",
       "      <th>State</th>\n",
       "      <th>County</th>\n",
       "      <th>Rate</th>\n",
       "    </tr>\n",
       "    <tr>\n",
       "      <th>number_month</th>\n",
       "      <th></th>\n",
       "      <th></th>\n",
       "      <th></th>\n",
       "      <th></th>\n",
       "      <th></th>\n",
       "    </tr>\n",
       "  </thead>\n",
       "  <tbody>\n",
       "    <tr>\n",
       "      <th>1</th>\n",
       "      <td>2016</td>\n",
       "      <td>January</td>\n",
       "      <td>New York</td>\n",
       "      <td>New York County</td>\n",
       "      <td>5.1</td>\n",
       "    </tr>\n",
       "    <tr>\n",
       "      <th>2</th>\n",
       "      <td>2016</td>\n",
       "      <td>February</td>\n",
       "      <td>New York</td>\n",
       "      <td>New York County</td>\n",
       "      <td>5.1</td>\n",
       "    </tr>\n",
       "    <tr>\n",
       "      <th>3</th>\n",
       "      <td>2016</td>\n",
       "      <td>March</td>\n",
       "      <td>New York</td>\n",
       "      <td>New York County</td>\n",
       "      <td>5.0</td>\n",
       "    </tr>\n",
       "    <tr>\n",
       "      <th>4</th>\n",
       "      <td>2016</td>\n",
       "      <td>April</td>\n",
       "      <td>New York</td>\n",
       "      <td>New York County</td>\n",
       "      <td>4.2</td>\n",
       "    </tr>\n",
       "    <tr>\n",
       "      <th>5</th>\n",
       "      <td>2016</td>\n",
       "      <td>May</td>\n",
       "      <td>New York</td>\n",
       "      <td>New York County</td>\n",
       "      <td>3.9</td>\n",
       "    </tr>\n",
       "    <tr>\n",
       "      <th>6</th>\n",
       "      <td>2016</td>\n",
       "      <td>June</td>\n",
       "      <td>New York</td>\n",
       "      <td>New York County</td>\n",
       "      <td>4.4</td>\n",
       "    </tr>\n",
       "    <tr>\n",
       "      <th>7</th>\n",
       "      <td>2016</td>\n",
       "      <td>July</td>\n",
       "      <td>New York</td>\n",
       "      <td>New York County</td>\n",
       "      <td>4.8</td>\n",
       "    </tr>\n",
       "    <tr>\n",
       "      <th>8</th>\n",
       "      <td>2016</td>\n",
       "      <td>August</td>\n",
       "      <td>New York</td>\n",
       "      <td>New York County</td>\n",
       "      <td>4.9</td>\n",
       "    </tr>\n",
       "    <tr>\n",
       "      <th>9</th>\n",
       "      <td>2016</td>\n",
       "      <td>September</td>\n",
       "      <td>New York</td>\n",
       "      <td>New York County</td>\n",
       "      <td>5.1</td>\n",
       "    </tr>\n",
       "    <tr>\n",
       "      <th>10</th>\n",
       "      <td>2016</td>\n",
       "      <td>October</td>\n",
       "      <td>New York</td>\n",
       "      <td>New York County</td>\n",
       "      <td>5.0</td>\n",
       "    </tr>\n",
       "    <tr>\n",
       "      <th>11</th>\n",
       "      <td>2016</td>\n",
       "      <td>November</td>\n",
       "      <td>New York</td>\n",
       "      <td>New York County</td>\n",
       "      <td>4.5</td>\n",
       "    </tr>\n",
       "    <tr>\n",
       "      <th>12</th>\n",
       "      <td>2016</td>\n",
       "      <td>December</td>\n",
       "      <td>New York</td>\n",
       "      <td>New York County</td>\n",
       "      <td>3.9</td>\n",
       "    </tr>\n",
       "  </tbody>\n",
       "</table>\n",
       "</div>"
      ],
      "text/plain": [
       "              Year      Month     State           County  Rate\n",
       "number_month                                                  \n",
       "1             2016    January  New York  New York County   5.1\n",
       "2             2016   February  New York  New York County   5.1\n",
       "3             2016      March  New York  New York County   5.0\n",
       "4             2016      April  New York  New York County   4.2\n",
       "5             2016        May  New York  New York County   3.9\n",
       "6             2016       June  New York  New York County   4.4\n",
       "7             2016       July  New York  New York County   4.8\n",
       "8             2016     August  New York  New York County   4.9\n",
       "9             2016  September  New York  New York County   5.1\n",
       "10            2016    October  New York  New York County   5.0\n",
       "11            2016   November  New York  New York County   4.5\n",
       "12            2016   December  New York  New York County   3.9"
      ]
     },
     "execution_count": 24,
     "metadata": {},
     "output_type": "execute_result"
    }
   ],
   "source": [
    "only_NY_County_df_copy"
   ]
  },
  {
   "cell_type": "code",
   "execution_count": 25,
   "metadata": {},
   "outputs": [
    {
     "data": {
      "text/html": [
       "<div>\n",
       "<style scoped>\n",
       "    .dataframe tbody tr th:only-of-type {\n",
       "        vertical-align: middle;\n",
       "    }\n",
       "\n",
       "    .dataframe tbody tr th {\n",
       "        vertical-align: top;\n",
       "    }\n",
       "\n",
       "    .dataframe thead th {\n",
       "        text-align: right;\n",
       "    }\n",
       "</style>\n",
       "<table border=\"1\" class=\"dataframe\">\n",
       "  <thead>\n",
       "    <tr style=\"text-align: right;\">\n",
       "      <th></th>\n",
       "      <th>Year</th>\n",
       "      <th>Month</th>\n",
       "      <th>State</th>\n",
       "      <th>County</th>\n",
       "      <th>Rate</th>\n",
       "    </tr>\n",
       "    <tr>\n",
       "      <th>number_month</th>\n",
       "      <th></th>\n",
       "      <th></th>\n",
       "      <th></th>\n",
       "      <th></th>\n",
       "      <th></th>\n",
       "    </tr>\n",
       "  </thead>\n",
       "  <tbody>\n",
       "    <tr>\n",
       "      <th>1</th>\n",
       "      <td>2016</td>\n",
       "      <td>January</td>\n",
       "      <td>New York</td>\n",
       "      <td>Bronx County</td>\n",
       "      <td>8.1</td>\n",
       "    </tr>\n",
       "    <tr>\n",
       "      <th>2</th>\n",
       "      <td>2016</td>\n",
       "      <td>February</td>\n",
       "      <td>New York</td>\n",
       "      <td>Bronx County</td>\n",
       "      <td>8.1</td>\n",
       "    </tr>\n",
       "    <tr>\n",
       "      <th>3</th>\n",
       "      <td>2016</td>\n",
       "      <td>March</td>\n",
       "      <td>New York</td>\n",
       "      <td>Bronx County</td>\n",
       "      <td>7.9</td>\n",
       "    </tr>\n",
       "    <tr>\n",
       "      <th>4</th>\n",
       "      <td>2016</td>\n",
       "      <td>April</td>\n",
       "      <td>New York</td>\n",
       "      <td>Bronx County</td>\n",
       "      <td>6.6</td>\n",
       "    </tr>\n",
       "    <tr>\n",
       "      <th>5</th>\n",
       "      <td>2016</td>\n",
       "      <td>May</td>\n",
       "      <td>New York</td>\n",
       "      <td>Bronx County</td>\n",
       "      <td>6.1</td>\n",
       "    </tr>\n",
       "    <tr>\n",
       "      <th>6</th>\n",
       "      <td>2016</td>\n",
       "      <td>June</td>\n",
       "      <td>New York</td>\n",
       "      <td>Bronx County</td>\n",
       "      <td>7.0</td>\n",
       "    </tr>\n",
       "    <tr>\n",
       "      <th>7</th>\n",
       "      <td>2016</td>\n",
       "      <td>July</td>\n",
       "      <td>New York</td>\n",
       "      <td>Bronx County</td>\n",
       "      <td>7.7</td>\n",
       "    </tr>\n",
       "    <tr>\n",
       "      <th>8</th>\n",
       "      <td>2016</td>\n",
       "      <td>August</td>\n",
       "      <td>New York</td>\n",
       "      <td>Bronx County</td>\n",
       "      <td>7.8</td>\n",
       "    </tr>\n",
       "    <tr>\n",
       "      <th>9</th>\n",
       "      <td>2016</td>\n",
       "      <td>September</td>\n",
       "      <td>New York</td>\n",
       "      <td>Bronx County</td>\n",
       "      <td>7.8</td>\n",
       "    </tr>\n",
       "    <tr>\n",
       "      <th>10</th>\n",
       "      <td>2016</td>\n",
       "      <td>October</td>\n",
       "      <td>New York</td>\n",
       "      <td>Bronx County</td>\n",
       "      <td>7.7</td>\n",
       "    </tr>\n",
       "    <tr>\n",
       "      <th>11</th>\n",
       "      <td>2016</td>\n",
       "      <td>November</td>\n",
       "      <td>New York</td>\n",
       "      <td>Bronx County</td>\n",
       "      <td>7.1</td>\n",
       "    </tr>\n",
       "    <tr>\n",
       "      <th>12</th>\n",
       "      <td>2016</td>\n",
       "      <td>December</td>\n",
       "      <td>New York</td>\n",
       "      <td>Bronx County</td>\n",
       "      <td>6.2</td>\n",
       "    </tr>\n",
       "  </tbody>\n",
       "</table>\n",
       "</div>"
      ],
      "text/plain": [
       "              Year      Month     State        County  Rate\n",
       "number_month                                               \n",
       "1             2016    January  New York  Bronx County   8.1\n",
       "2             2016   February  New York  Bronx County   8.1\n",
       "3             2016      March  New York  Bronx County   7.9\n",
       "4             2016      April  New York  Bronx County   6.6\n",
       "5             2016        May  New York  Bronx County   6.1\n",
       "6             2016       June  New York  Bronx County   7.0\n",
       "7             2016       July  New York  Bronx County   7.7\n",
       "8             2016     August  New York  Bronx County   7.8\n",
       "9             2016  September  New York  Bronx County   7.8\n",
       "10            2016    October  New York  Bronx County   7.7\n",
       "11            2016   November  New York  Bronx County   7.1\n",
       "12            2016   December  New York  Bronx County   6.2"
      ]
     },
     "execution_count": 25,
     "metadata": {},
     "output_type": "execute_result"
    }
   ],
   "source": [
    "only_Bronx_County_df_copy"
   ]
  },
  {
   "cell_type": "markdown",
   "metadata": {},
   "source": [
    "A line graph will help with these new charts."
   ]
  },
  {
   "cell_type": "code",
   "execution_count": 26,
   "metadata": {},
   "outputs": [
    {
     "data": {
      "image/png": "[encoded data removed]",
      "text/plain": [
       "<Figure size 432x288 with 1 Axes>"
      ]
     },
     "metadata": {
      "needs_background": "light"
     },
     "output_type": "display_data"
    }
   ],
   "source": [
    "only_NY_County_df_copy.Rate.plot();\n",
    "only_Bronx_County_df_copy.Rate.plot();"
   ]
  },
  {
   "cell_type": "markdown",
   "metadata": {},
   "source": [
    "Well, that's very unexpected. Other than the fact that Brooklyn has consistently higher unemployment, the patterns are very similar. Though Bronx has slightly more drastic dips and peaks. If my theory of brain drain were correct, I would expect that as unemployment went down in NY County, indicating more opportunites, it would go up in the Bronx. Let's try Queens since it's also close to both counties. If they are all consistent, it is probably the case that these fluctuations are from a higher economic cause."
   ]
  },
  {
   "cell_type": "code",
   "execution_count": 27,
   "metadata": {},
   "outputs": [],
   "source": [
    "only_Queens_County_df = recent_year_df[recent_year_df.County == \"Queens County\"]\n",
    "only_Queens_County_df_copy = only_Queens_County_df.copy()\n",
    "\n",
    "only_Queens_County_df_copy.set_index('number_month', inplace = True)"
   ]
  },
  {
   "cell_type": "code",
   "execution_count": 28,
   "metadata": {},
   "outputs": [
    {
     "data": {
      "text/html": [
       "<div>\n",
       "<style scoped>\n",
       "    .dataframe tbody tr th:only-of-type {\n",
       "        vertical-align: middle;\n",
       "    }\n",
       "\n",
       "    .dataframe tbody tr th {\n",
       "        vertical-align: top;\n",
       "    }\n",
       "\n",
       "    .dataframe thead th {\n",
       "        text-align: right;\n",
       "    }\n",
       "</style>\n",
       "<table border=\"1\" class=\"dataframe\">\n",
       "  <thead>\n",
       "    <tr style=\"text-align: right;\">\n",
       "      <th></th>\n",
       "      <th>Year</th>\n",
       "      <th>Month</th>\n",
       "      <th>State</th>\n",
       "      <th>County</th>\n",
       "      <th>Rate</th>\n",
       "    </tr>\n",
       "    <tr>\n",
       "      <th>number_month</th>\n",
       "      <th></th>\n",
       "      <th></th>\n",
       "      <th></th>\n",
       "      <th></th>\n",
       "      <th></th>\n",
       "    </tr>\n",
       "  </thead>\n",
       "  <tbody>\n",
       "    <tr>\n",
       "      <th>1</th>\n",
       "      <td>2016</td>\n",
       "      <td>January</td>\n",
       "      <td>New York</td>\n",
       "      <td>Queens County</td>\n",
       "      <td>5.2</td>\n",
       "    </tr>\n",
       "    <tr>\n",
       "      <th>2</th>\n",
       "      <td>2016</td>\n",
       "      <td>February</td>\n",
       "      <td>New York</td>\n",
       "      <td>Queens County</td>\n",
       "      <td>5.2</td>\n",
       "    </tr>\n",
       "    <tr>\n",
       "      <th>3</th>\n",
       "      <td>2016</td>\n",
       "      <td>March</td>\n",
       "      <td>New York</td>\n",
       "      <td>Queens County</td>\n",
       "      <td>5.0</td>\n",
       "    </tr>\n",
       "    <tr>\n",
       "      <th>4</th>\n",
       "      <td>2016</td>\n",
       "      <td>April</td>\n",
       "      <td>New York</td>\n",
       "      <td>Queens County</td>\n",
       "      <td>4.2</td>\n",
       "    </tr>\n",
       "    <tr>\n",
       "      <th>5</th>\n",
       "      <td>2016</td>\n",
       "      <td>May</td>\n",
       "      <td>New York</td>\n",
       "      <td>Queens County</td>\n",
       "      <td>3.8</td>\n",
       "    </tr>\n",
       "    <tr>\n",
       "      <th>6</th>\n",
       "      <td>2016</td>\n",
       "      <td>June</td>\n",
       "      <td>New York</td>\n",
       "      <td>Queens County</td>\n",
       "      <td>4.4</td>\n",
       "    </tr>\n",
       "    <tr>\n",
       "      <th>7</th>\n",
       "      <td>2016</td>\n",
       "      <td>July</td>\n",
       "      <td>New York</td>\n",
       "      <td>Queens County</td>\n",
       "      <td>4.9</td>\n",
       "    </tr>\n",
       "    <tr>\n",
       "      <th>8</th>\n",
       "      <td>2016</td>\n",
       "      <td>August</td>\n",
       "      <td>New York</td>\n",
       "      <td>Queens County</td>\n",
       "      <td>5.0</td>\n",
       "    </tr>\n",
       "    <tr>\n",
       "      <th>9</th>\n",
       "      <td>2016</td>\n",
       "      <td>September</td>\n",
       "      <td>New York</td>\n",
       "      <td>Queens County</td>\n",
       "      <td>5.1</td>\n",
       "    </tr>\n",
       "    <tr>\n",
       "      <th>10</th>\n",
       "      <td>2016</td>\n",
       "      <td>October</td>\n",
       "      <td>New York</td>\n",
       "      <td>Queens County</td>\n",
       "      <td>4.9</td>\n",
       "    </tr>\n",
       "    <tr>\n",
       "      <th>11</th>\n",
       "      <td>2016</td>\n",
       "      <td>November</td>\n",
       "      <td>New York</td>\n",
       "      <td>Queens County</td>\n",
       "      <td>4.5</td>\n",
       "    </tr>\n",
       "    <tr>\n",
       "      <th>12</th>\n",
       "      <td>2016</td>\n",
       "      <td>December</td>\n",
       "      <td>New York</td>\n",
       "      <td>Queens County</td>\n",
       "      <td>3.9</td>\n",
       "    </tr>\n",
       "  </tbody>\n",
       "</table>\n",
       "</div>"
      ],
      "text/plain": [
       "              Year      Month     State         County  Rate\n",
       "number_month                                                \n",
       "1             2016    January  New York  Queens County   5.2\n",
       "2             2016   February  New York  Queens County   5.2\n",
       "3             2016      March  New York  Queens County   5.0\n",
       "4             2016      April  New York  Queens County   4.2\n",
       "5             2016        May  New York  Queens County   3.8\n",
       "6             2016       June  New York  Queens County   4.4\n",
       "7             2016       July  New York  Queens County   4.9\n",
       "8             2016     August  New York  Queens County   5.0\n",
       "9             2016  September  New York  Queens County   5.1\n",
       "10            2016    October  New York  Queens County   4.9\n",
       "11            2016   November  New York  Queens County   4.5\n",
       "12            2016   December  New York  Queens County   3.9"
      ]
     },
     "execution_count": 28,
     "metadata": {},
     "output_type": "execute_result"
    }
   ],
   "source": [
    "only_Queens_County_df_copy"
   ]
  },
  {
   "cell_type": "code",
   "execution_count": 29,
   "metadata": {},
   "outputs": [
    {
     "data": {
      "image/png": "[encoded data removed]",
      "text/plain": [
       "<Figure size 432x288 with 1 Axes>"
      ]
     },
     "metadata": {
      "needs_background": "light"
     },
     "output_type": "display_data"
    }
   ],
   "source": [
    "only_NY_County_df_copy.Rate.plot();\n",
    "only_Bronx_County_df_copy.Rate.plot();\n",
    "only_Queens_County_df_copy.Rate.plot();"
   ]
  },
  {
   "cell_type": "markdown",
   "metadata": {},
   "source": [
    "It appears Queens is even more identical to NY county. I guess that makes my question of brain drain inconclusive, since I can't tell if that actually contributed to the Bronx's higher unemployment in some way. However, this does lead to another question. To what degreee does a city have influence over the unemployment rates of its surrounding counties?\n",
    "Perhaps unemployment is mostly a local phenomena,  or it could be the case that a city has a large role the unemployment of its surrounding areas. Let's look at the city of Houston, TX. Which is located moslty in Harris County."
   ]
  },
  {
   "cell_type": "markdown",
   "metadata": {},
   "source": [
    "And a few adjacent counties, Galveston, Montgomery, and Fort Bend."
   ]
  },
  {
   "cell_type": "code",
   "execution_count": 30,
   "metadata": {},
   "outputs": [
    {
     "data": {
      "text/html": [
       "<div>\n",
       "<style scoped>\n",
       "    .dataframe tbody tr th:only-of-type {\n",
       "        vertical-align: middle;\n",
       "    }\n",
       "\n",
       "    .dataframe tbody tr th {\n",
       "        vertical-align: top;\n",
       "    }\n",
       "\n",
       "    .dataframe thead th {\n",
       "        text-align: right;\n",
       "    }\n",
       "</style>\n",
       "<table border=\"1\" class=\"dataframe\">\n",
       "  <thead>\n",
       "    <tr style=\"text-align: right;\">\n",
       "      <th></th>\n",
       "      <th>Year</th>\n",
       "      <th>Month</th>\n",
       "      <th>State</th>\n",
       "      <th>County</th>\n",
       "      <th>Rate</th>\n",
       "      <th>number_month</th>\n",
       "    </tr>\n",
       "  </thead>\n",
       "  <tbody>\n",
       "    <tr>\n",
       "      <th>96318</th>\n",
       "      <td>2016</td>\n",
       "      <td>December</td>\n",
       "      <td>Texas</td>\n",
       "      <td>Anderson County</td>\n",
       "      <td>4.0</td>\n",
       "      <td>12</td>\n",
       "    </tr>\n",
       "    <tr>\n",
       "      <th>96476</th>\n",
       "      <td>2016</td>\n",
       "      <td>December</td>\n",
       "      <td>Texas</td>\n",
       "      <td>Andrews County</td>\n",
       "      <td>4.3</td>\n",
       "      <td>12</td>\n",
       "    </tr>\n",
       "    <tr>\n",
       "      <th>96359</th>\n",
       "      <td>2016</td>\n",
       "      <td>December</td>\n",
       "      <td>Texas</td>\n",
       "      <td>Angelina County</td>\n",
       "      <td>6.0</td>\n",
       "      <td>12</td>\n",
       "    </tr>\n",
       "    <tr>\n",
       "      <th>96347</th>\n",
       "      <td>2016</td>\n",
       "      <td>December</td>\n",
       "      <td>Texas</td>\n",
       "      <td>Aransas County</td>\n",
       "      <td>6.0</td>\n",
       "      <td>12</td>\n",
       "    </tr>\n",
       "    <tr>\n",
       "      <th>96485</th>\n",
       "      <td>2016</td>\n",
       "      <td>December</td>\n",
       "      <td>Texas</td>\n",
       "      <td>Archer County</td>\n",
       "      <td>4.0</td>\n",
       "      <td>12</td>\n",
       "    </tr>\n",
       "    <tr>\n",
       "      <th>...</th>\n",
       "      <td>...</td>\n",
       "      <td>...</td>\n",
       "      <td>...</td>\n",
       "      <td>...</td>\n",
       "      <td>...</td>\n",
       "      <td>...</td>\n",
       "    </tr>\n",
       "    <tr>\n",
       "      <th>96317</th>\n",
       "      <td>2016</td>\n",
       "      <td>December</td>\n",
       "      <td>Texas</td>\n",
       "      <td>Wood County</td>\n",
       "      <td>5.3</td>\n",
       "      <td>12</td>\n",
       "    </tr>\n",
       "    <tr>\n",
       "      <th>96486</th>\n",
       "      <td>2016</td>\n",
       "      <td>December</td>\n",
       "      <td>Texas</td>\n",
       "      <td>Yoakum County</td>\n",
       "      <td>4.3</td>\n",
       "      <td>12</td>\n",
       "    </tr>\n",
       "    <tr>\n",
       "      <th>96420</th>\n",
       "      <td>2016</td>\n",
       "      <td>December</td>\n",
       "      <td>Texas</td>\n",
       "      <td>Young County</td>\n",
       "      <td>4.4</td>\n",
       "      <td>12</td>\n",
       "    </tr>\n",
       "    <tr>\n",
       "      <th>96259</th>\n",
       "      <td>2016</td>\n",
       "      <td>December</td>\n",
       "      <td>Texas</td>\n",
       "      <td>Zapata County</td>\n",
       "      <td>9.8</td>\n",
       "      <td>12</td>\n",
       "    </tr>\n",
       "    <tr>\n",
       "      <th>96391</th>\n",
       "      <td>2016</td>\n",
       "      <td>December</td>\n",
       "      <td>Texas</td>\n",
       "      <td>Zavala County</td>\n",
       "      <td>13.0</td>\n",
       "      <td>12</td>\n",
       "    </tr>\n",
       "  </tbody>\n",
       "</table>\n",
       "<p>254 rows × 6 columns</p>\n",
       "</div>"
      ],
      "text/plain": [
       "       Year     Month  State           County  Rate  number_month\n",
       "96318  2016  December  Texas  Anderson County   4.0            12\n",
       "96476  2016  December  Texas   Andrews County   4.3            12\n",
       "96359  2016  December  Texas  Angelina County   6.0            12\n",
       "96347  2016  December  Texas   Aransas County   6.0            12\n",
       "96485  2016  December  Texas    Archer County   4.0            12\n",
       "...     ...       ...    ...              ...   ...           ...\n",
       "96317  2016  December  Texas      Wood County   5.3            12\n",
       "96486  2016  December  Texas    Yoakum County   4.3            12\n",
       "96420  2016  December  Texas     Young County   4.4            12\n",
       "96259  2016  December  Texas    Zapata County   9.8            12\n",
       "96391  2016  December  Texas    Zavala County  13.0            12\n",
       "\n",
       "[254 rows x 6 columns]"
      ]
     },
     "execution_count": 30,
     "metadata": {},
     "output_type": "execute_result"
    }
   ],
   "source": [
    "recent_TX_df = recent_month_df[recent_month_df.State == \"Texas\"]\n",
    "\n",
    "recent_TX_df"
   ]
  },
  {
   "cell_type": "code",
   "execution_count": 31,
   "metadata": {},
   "outputs": [
    {
     "data": {
      "text/html": [
       "<div>\n",
       "<style scoped>\n",
       "    .dataframe tbody tr th:only-of-type {\n",
       "        vertical-align: middle;\n",
       "    }\n",
       "\n",
       "    .dataframe tbody tr th {\n",
       "        vertical-align: top;\n",
       "    }\n",
       "\n",
       "    .dataframe thead th {\n",
       "        text-align: right;\n",
       "    }\n",
       "</style>\n",
       "<table border=\"1\" class=\"dataframe\">\n",
       "  <thead>\n",
       "    <tr style=\"text-align: right;\">\n",
       "      <th></th>\n",
       "      <th>Year</th>\n",
       "      <th>Month</th>\n",
       "      <th>State</th>\n",
       "      <th>County</th>\n",
       "      <th>Rate</th>\n",
       "      <th>number_month</th>\n",
       "    </tr>\n",
       "  </thead>\n",
       "  <tbody>\n",
       "    <tr>\n",
       "      <th>96319</th>\n",
       "      <td>2016</td>\n",
       "      <td>December</td>\n",
       "      <td>Texas</td>\n",
       "      <td>Harris County</td>\n",
       "      <td>5.3</td>\n",
       "      <td>12</td>\n",
       "    </tr>\n",
       "  </tbody>\n",
       "</table>\n",
       "</div>"
      ],
      "text/plain": [
       "       Year     Month  State         County  Rate  number_month\n",
       "96319  2016  December  Texas  Harris County   5.3            12"
      ]
     },
     "execution_count": 31,
     "metadata": {},
     "output_type": "execute_result"
    }
   ],
   "source": [
    "recent_TX_df[recent_TX_df.County == \"Harris County\"]"
   ]
  },
  {
   "cell_type": "code",
   "execution_count": 32,
   "metadata": {},
   "outputs": [
    {
     "data": {
      "text/html": [
       "<div>\n",
       "<style scoped>\n",
       "    .dataframe tbody tr th:only-of-type {\n",
       "        vertical-align: middle;\n",
       "    }\n",
       "\n",
       "    .dataframe tbody tr th {\n",
       "        vertical-align: top;\n",
       "    }\n",
       "\n",
       "    .dataframe thead th {\n",
       "        text-align: right;\n",
       "    }\n",
       "</style>\n",
       "<table border=\"1\" class=\"dataframe\">\n",
       "  <thead>\n",
       "    <tr style=\"text-align: right;\">\n",
       "      <th></th>\n",
       "      <th>Year</th>\n",
       "      <th>Month</th>\n",
       "      <th>State</th>\n",
       "      <th>County</th>\n",
       "      <th>Rate</th>\n",
       "      <th>number_month</th>\n",
       "    </tr>\n",
       "  </thead>\n",
       "  <tbody>\n",
       "    <tr>\n",
       "      <th>96296</th>\n",
       "      <td>2016</td>\n",
       "      <td>December</td>\n",
       "      <td>Texas</td>\n",
       "      <td>Galveston County</td>\n",
       "      <td>5.6</td>\n",
       "      <td>12</td>\n",
       "    </tr>\n",
       "  </tbody>\n",
       "</table>\n",
       "</div>"
      ],
      "text/plain": [
       "       Year     Month  State            County  Rate  number_month\n",
       "96296  2016  December  Texas  Galveston County   5.6            12"
      ]
     },
     "execution_count": 32,
     "metadata": {},
     "output_type": "execute_result"
    }
   ],
   "source": [
    "recent_TX_df[recent_TX_df.County == \"Galveston County\"]"
   ]
  },
  {
   "cell_type": "code",
   "execution_count": 33,
   "metadata": {},
   "outputs": [
    {
     "data": {
      "text/html": [
       "<div>\n",
       "<style scoped>\n",
       "    .dataframe tbody tr th:only-of-type {\n",
       "        vertical-align: middle;\n",
       "    }\n",
       "\n",
       "    .dataframe tbody tr th {\n",
       "        vertical-align: top;\n",
       "    }\n",
       "\n",
       "    .dataframe thead th {\n",
       "        text-align: right;\n",
       "    }\n",
       "</style>\n",
       "<table border=\"1\" class=\"dataframe\">\n",
       "  <thead>\n",
       "    <tr style=\"text-align: right;\">\n",
       "      <th></th>\n",
       "      <th>Year</th>\n",
       "      <th>Month</th>\n",
       "      <th>State</th>\n",
       "      <th>County</th>\n",
       "      <th>Rate</th>\n",
       "      <th>number_month</th>\n",
       "    </tr>\n",
       "  </thead>\n",
       "  <tbody>\n",
       "    <tr>\n",
       "      <th>96390</th>\n",
       "      <td>2016</td>\n",
       "      <td>December</td>\n",
       "      <td>Texas</td>\n",
       "      <td>Fort Bend County</td>\n",
       "      <td>5.1</td>\n",
       "      <td>12</td>\n",
       "    </tr>\n",
       "  </tbody>\n",
       "</table>\n",
       "</div>"
      ],
      "text/plain": [
       "       Year     Month  State            County  Rate  number_month\n",
       "96390  2016  December  Texas  Fort Bend County   5.1            12"
      ]
     },
     "execution_count": 33,
     "metadata": {},
     "output_type": "execute_result"
    }
   ],
   "source": [
    "recent_TX_df[recent_TX_df.County == \"Fort Bend County\"]"
   ]
  },
  {
   "cell_type": "markdown",
   "metadata": {},
   "source": [
    "In this case, none of the adjacent counties to Harris have radically different unemployment rates. Let's see if, similar to New York County, the rates of unemployment move in a similar pattern."
   ]
  },
  {
   "cell_type": "code",
   "execution_count": 34,
   "metadata": {},
   "outputs": [],
   "source": [
    "Harris_df = recent_year_df[recent_year_df.County == \"Harris County\"].copy()\n",
    "Galveston_df = recent_year_df[recent_year_df.County == \"Galveston County\"].copy()\n",
    "Fort_Bend_df = recent_year_df[recent_year_df.County == \"Fort Bend County\"].copy()\n",
    "\n",
    "\n",
    "Harris_df.set_index('number_month', inplace = True)\n",
    "Galveston_df.set_index('number_month', inplace = True)\n",
    "Fort_Bend_df.set_index('number_month', inplace = True)"
   ]
  },
  {
   "cell_type": "code",
   "execution_count": 35,
   "metadata": {},
   "outputs": [
    {
     "data": {
      "image/png": "[encoded data removed]",
      "text/plain": [
       "<Figure size 432x288 with 1 Axes>"
      ]
     },
     "metadata": {
      "needs_background": "light"
     },
     "output_type": "display_data"
    }
   ],
   "source": [
    "Harris_df.Rate.plot();\n",
    "Galveston_df.Rate.plot();\n",
    "Fort_Bend_df.Rate.plot();"
   ]
  },
  {
   "cell_type": "markdown",
   "metadata": {},
   "source": [
    "We have similar results as we had for New York. And the pattern is mostly different than the patterns for the New York area. However, in this case, there isn't a county that is consistenetly higher than Harris. To get a more conclusive answer, we would need a random area that has no cities at all. And see the surrounding counties there. If the counties move similarly, it may be more likely that economic activity is more localized without any particular county causing it. However if the counties are different, we can say that cities do have an effect on it's surrounding counties. Let's do Arizona, since it doesn't have many counties and is therefore easier to research.\n",
    "\n",
    "I'll choose Mohave county since there's no city in it and its adjacent counties don't have a population exceeding 300,000."
   ]
  },
  {
   "cell_type": "code",
   "execution_count": 36,
   "metadata": {},
   "outputs": [
    {
     "data": {
      "text/html": [
       "<div>\n",
       "<style scoped>\n",
       "    .dataframe tbody tr th:only-of-type {\n",
       "        vertical-align: middle;\n",
       "    }\n",
       "\n",
       "    .dataframe tbody tr th {\n",
       "        vertical-align: top;\n",
       "    }\n",
       "\n",
       "    .dataframe thead th {\n",
       "        text-align: right;\n",
       "    }\n",
       "</style>\n",
       "<table border=\"1\" class=\"dataframe\">\n",
       "  <thead>\n",
       "    <tr style=\"text-align: right;\">\n",
       "      <th></th>\n",
       "      <th>Year</th>\n",
       "      <th>Month</th>\n",
       "      <th>State</th>\n",
       "      <th>County</th>\n",
       "      <th>Rate</th>\n",
       "      <th>number_month</th>\n",
       "    </tr>\n",
       "  </thead>\n",
       "  <tbody>\n",
       "    <tr>\n",
       "      <th>94450</th>\n",
       "      <td>2016</td>\n",
       "      <td>December</td>\n",
       "      <td>Arizona</td>\n",
       "      <td>Apache County</td>\n",
       "      <td>10.4</td>\n",
       "      <td>12</td>\n",
       "    </tr>\n",
       "    <tr>\n",
       "      <th>94452</th>\n",
       "      <td>2016</td>\n",
       "      <td>December</td>\n",
       "      <td>Arizona</td>\n",
       "      <td>Cochise County</td>\n",
       "      <td>5.4</td>\n",
       "      <td>12</td>\n",
       "    </tr>\n",
       "    <tr>\n",
       "      <th>94451</th>\n",
       "      <td>2016</td>\n",
       "      <td>December</td>\n",
       "      <td>Arizona</td>\n",
       "      <td>Coconino County</td>\n",
       "      <td>6.0</td>\n",
       "      <td>12</td>\n",
       "    </tr>\n",
       "    <tr>\n",
       "      <th>94445</th>\n",
       "      <td>2016</td>\n",
       "      <td>December</td>\n",
       "      <td>Arizona</td>\n",
       "      <td>Gila County</td>\n",
       "      <td>6.6</td>\n",
       "      <td>12</td>\n",
       "    </tr>\n",
       "    <tr>\n",
       "      <th>94448</th>\n",
       "      <td>2016</td>\n",
       "      <td>December</td>\n",
       "      <td>Arizona</td>\n",
       "      <td>Graham County</td>\n",
       "      <td>5.6</td>\n",
       "      <td>12</td>\n",
       "    </tr>\n",
       "    <tr>\n",
       "      <th>94441</th>\n",
       "      <td>2016</td>\n",
       "      <td>December</td>\n",
       "      <td>Arizona</td>\n",
       "      <td>Greenlee County</td>\n",
       "      <td>6.0</td>\n",
       "      <td>12</td>\n",
       "    </tr>\n",
       "    <tr>\n",
       "      <th>94442</th>\n",
       "      <td>2016</td>\n",
       "      <td>December</td>\n",
       "      <td>Arizona</td>\n",
       "      <td>La Paz County</td>\n",
       "      <td>5.3</td>\n",
       "      <td>12</td>\n",
       "    </tr>\n",
       "    <tr>\n",
       "      <th>94446</th>\n",
       "      <td>2016</td>\n",
       "      <td>December</td>\n",
       "      <td>Arizona</td>\n",
       "      <td>Maricopa County</td>\n",
       "      <td>4.0</td>\n",
       "      <td>12</td>\n",
       "    </tr>\n",
       "    <tr>\n",
       "      <th>94443</th>\n",
       "      <td>2016</td>\n",
       "      <td>December</td>\n",
       "      <td>Arizona</td>\n",
       "      <td>Mohave County</td>\n",
       "      <td>6.0</td>\n",
       "      <td>12</td>\n",
       "    </tr>\n",
       "    <tr>\n",
       "      <th>94447</th>\n",
       "      <td>2016</td>\n",
       "      <td>December</td>\n",
       "      <td>Arizona</td>\n",
       "      <td>Navajo County</td>\n",
       "      <td>7.7</td>\n",
       "      <td>12</td>\n",
       "    </tr>\n",
       "    <tr>\n",
       "      <th>94449</th>\n",
       "      <td>2016</td>\n",
       "      <td>December</td>\n",
       "      <td>Arizona</td>\n",
       "      <td>Pima County</td>\n",
       "      <td>4.3</td>\n",
       "      <td>12</td>\n",
       "    </tr>\n",
       "    <tr>\n",
       "      <th>94440</th>\n",
       "      <td>2016</td>\n",
       "      <td>December</td>\n",
       "      <td>Arizona</td>\n",
       "      <td>Pinal County</td>\n",
       "      <td>4.9</td>\n",
       "      <td>12</td>\n",
       "    </tr>\n",
       "    <tr>\n",
       "      <th>94453</th>\n",
       "      <td>2016</td>\n",
       "      <td>December</td>\n",
       "      <td>Arizona</td>\n",
       "      <td>Santa Cruz County</td>\n",
       "      <td>8.6</td>\n",
       "      <td>12</td>\n",
       "    </tr>\n",
       "    <tr>\n",
       "      <th>94454</th>\n",
       "      <td>2016</td>\n",
       "      <td>December</td>\n",
       "      <td>Arizona</td>\n",
       "      <td>Yavapai County</td>\n",
       "      <td>4.2</td>\n",
       "      <td>12</td>\n",
       "    </tr>\n",
       "    <tr>\n",
       "      <th>94444</th>\n",
       "      <td>2016</td>\n",
       "      <td>December</td>\n",
       "      <td>Arizona</td>\n",
       "      <td>Yuma County</td>\n",
       "      <td>15.3</td>\n",
       "      <td>12</td>\n",
       "    </tr>\n",
       "  </tbody>\n",
       "</table>\n",
       "</div>"
      ],
      "text/plain": [
       "       Year     Month    State             County  Rate  number_month\n",
       "94450  2016  December  Arizona      Apache County  10.4            12\n",
       "94452  2016  December  Arizona     Cochise County   5.4            12\n",
       "94451  2016  December  Arizona    Coconino County   6.0            12\n",
       "94445  2016  December  Arizona        Gila County   6.6            12\n",
       "94448  2016  December  Arizona      Graham County   5.6            12\n",
       "94441  2016  December  Arizona    Greenlee County   6.0            12\n",
       "94442  2016  December  Arizona      La Paz County   5.3            12\n",
       "94446  2016  December  Arizona    Maricopa County   4.0            12\n",
       "94443  2016  December  Arizona      Mohave County   6.0            12\n",
       "94447  2016  December  Arizona      Navajo County   7.7            12\n",
       "94449  2016  December  Arizona        Pima County   4.3            12\n",
       "94440  2016  December  Arizona       Pinal County   4.9            12\n",
       "94453  2016  December  Arizona  Santa Cruz County   8.6            12\n",
       "94454  2016  December  Arizona     Yavapai County   4.2            12\n",
       "94444  2016  December  Arizona        Yuma County  15.3            12"
      ]
     },
     "execution_count": 36,
     "metadata": {},
     "output_type": "execute_result"
    }
   ],
   "source": [
    "recent_AZ_df = recent_month_df[recent_month_df.State == \"Arizona\"]\n",
    "\n",
    "recent_AZ_df"
   ]
  },
  {
   "cell_type": "markdown",
   "metadata": {},
   "source": [
    "Huh, just by looking at this, I can see that Apache and Yuma are outliers. In fact, all of these counties, besides Pima, Maricopa, Yavapai, and Pinal, are above the average national unemployment at the time, which was 4.9%. That's really unfortunate. It's hard to imagine what would make nearly an entire state have an above-average unemployment rate. Actually, Arizona borders California. Perhaps I've been looking too close. Perhaps unemployment more affects state borders than county borders.\n",
    "Let's follow this up after we look at the counties, though."
   ]
  },
  {
   "cell_type": "code",
   "execution_count": 37,
   "metadata": {},
   "outputs": [],
   "source": [
    "Mohave_df = recent_year_df[recent_year_df.County == \"Mohave County\"].copy()\n",
    "Coconino_df = recent_year_df[recent_year_df.County == \"Coconino County\"].copy()\n",
    "Yavapai_df = recent_year_df[recent_year_df.County == \"Yavapai County\"].copy()\n",
    "\n",
    "\n",
    "Mohave_df.set_index('number_month', inplace = True)\n",
    "Coconino_df.set_index('number_month', inplace = True)\n",
    "Yavapai_df.set_index('number_month', inplace = True)"
   ]
  },
  {
   "cell_type": "code",
   "execution_count": 38,
   "metadata": {},
   "outputs": [
    {
     "data": {
      "image/png": "[encoded data removed]",
      "text/plain": [
       "<Figure size 432x288 with 1 Axes>"
      ]
     },
     "metadata": {
      "needs_background": "light"
     },
     "output_type": "display_data"
    }
   ],
   "source": [
    "Mohave_df.Rate.plot();\n",
    "Coconino_df.Rate.plot();\n",
    "Yavapai_df.Rate.plot();"
   ]
  },
  {
   "cell_type": "markdown",
   "metadata": {},
   "source": [
    "Alright, the unemployment rates are relatively similar, but definetely not as similar as NYC and Harris, so perhaps it is the case that economic activity is both a local phenomina and that cities can definetely influence the surrounding counties.\n",
    "\n",
    "Now we can get to our next question. We'll start by taking the average of the counties of AZ to get a state average, then the same for California, and see if there is a significant difference between unemployment. We'll do the same for NY and PA, then TX and OK. Just for the sake of building on our previous data."
   ]
  },
  {
   "cell_type": "code",
   "execution_count": 39,
   "metadata": {},
   "outputs": [
    {
     "name": "stdout",
     "output_type": "stream",
     "text": [
      "6.6866666666666665 6.767241379310345 \n",
      "\n",
      "5.526865671641791 5.125806451612903 \n",
      "\n",
      "5.029870129870133 5.065354330708661 \n",
      "\n"
     ]
    }
   ],
   "source": [
    "recent_CA_df = recent_month_df[recent_month_df.State == \"California\"]\n",
    "print(recent_AZ_df.Rate.mean(), recent_CA_df.Rate.mean(), '\\n')\n",
    "\n",
    "recent_PA_df = recent_month_df[recent_month_df.State == \"Pennsylvania\"]\n",
    "print(recent_PA_df.Rate.mean(), recent_NY_df.Rate.mean(), '\\n')\n",
    "\n",
    "recent_OK_df = recent_month_df[recent_month_df.State == \"Oklahoma\"]\n",
    "print(recent_OK_df.Rate.mean(), recent_TX_df.Rate.mean(), '\\n')"
   ]
  },
  {
   "cell_type": "markdown",
   "metadata": {},
   "source": [
    "It doesn't seem that the states that contain large cities have smaller unemployment than it's neighboring states. In fact it turn out that the average unemployment is higher in California than Arizona. I guess the answer for this question is also inconclusive."
   ]
  },
  {
   "cell_type": "code",
   "execution_count": 40,
   "metadata": {},
   "outputs": [],
   "source": [
    "import jovian"
   ]
  },
  {
   "cell_type": "code",
   "execution_count": 41,
   "metadata": {},
   "outputs": [
    {
     "data": {
      "application/javascript": [
       "window.require && require([\"base/js/namespace\"],function(Jupyter){Jupyter.notebook.save_checkpoint()})"
      ],
      "text/plain": [
       "<IPython.core.display.Javascript object>"
      ]
     },
     "metadata": {},
     "output_type": "display_data"
    },
    {
     "name": "stdout",
     "output_type": "stream",
     "text": [
      "[jovian] Attempting to save notebook..\u001b[0m\n",
      "[jovian] Updating notebook \"warren-ball9/warrens-unemployment-project\" on https://jovian.ai\u001b[0m\n",
      "[jovian] Uploading notebook..\u001b[0m\n",
      "[jovian] Uploading additional files...\u001b[0m\n",
      "[jovian] Committed successfully! https://jovian.ai/warren-ball9/warrens-unemployment-project\u001b[0m\n"
     ]
    },
    {
     "data": {
      "text/plain": [
       "'https://jovian.ai/warren-ball9/warrens-unemployment-project'"
      ]
     },
     "execution_count": 41,
     "metadata": {},
     "output_type": "execute_result"
    }
   ],
   "source": [
    "jovian.commit()"
   ]
  },
  {
   "cell_type": "code",
   "execution_count": 42,
   "metadata": {},
   "outputs": [],
   "source": [
    "import jovian"
   ]
  },
  {
   "cell_type": "code",
   "execution_count": 43,
   "metadata": {},
   "outputs": [
    {
     "data": {
      "application/javascript": [
       "window.require && require([\"base/js/namespace\"],function(Jupyter){Jupyter.notebook.save_checkpoint()})"
      ],
      "text/plain": [
       "<IPython.core.display.Javascript object>"
      ]
     },
     "metadata": {},
     "output_type": "display_data"
    },
    {
     "name": "stdout",
     "output_type": "stream",
     "text": [
      "[jovian] Attempting to save notebook..\u001b[0m\n",
      "[jovian] Updating notebook \"warren-ball9/warrens-unemployment-project\" on https://jovian.ai\u001b[0m\n",
      "[jovian] Uploading notebook..\u001b[0m\n",
      "[jovian] Uploading additional files...\u001b[0m\n",
      "[jovian] Committed successfully! https://jovian.ai/warren-ball9/warrens-unemployment-project\u001b[0m\n"
     ]
    },
    {
     "data": {
      "text/plain": [
       "'https://jovian.ai/warren-ball9/warrens-unemployment-project'"
      ]
     },
     "execution_count": 43,
     "metadata": {},
     "output_type": "execute_result"
    }
   ],
   "source": [
    "jovian.commit()"
   ]
  },
  {
   "cell_type": "markdown",
   "metadata": {},
   "source": [
    "Let us save and upload our work to Jovian before continuing."
   ]
  },
  {
   "cell_type": "code",
   "execution_count": 44,
   "metadata": {},
   "outputs": [],
   "source": [
    "import jovian"
   ]
  },
  {
   "cell_type": "code",
   "execution_count": 45,
   "metadata": {},
   "outputs": [
    {
     "data": {
      "application/javascript": [
       "window.require && require([\"base/js/namespace\"],function(Jupyter){Jupyter.notebook.save_checkpoint()})"
      ],
      "text/plain": [
       "<IPython.core.display.Javascript object>"
      ]
     },
     "metadata": {},
     "output_type": "display_data"
    },
    {
     "name": "stdout",
     "output_type": "stream",
     "text": [
      "[jovian] Attempting to save notebook..\u001b[0m\n",
      "[jovian] Updating notebook \"warren-ball9/warrens-unemployment-project\" on https://jovian.ai\u001b[0m\n",
      "[jovian] Uploading notebook..\u001b[0m\n",
      "[jovian] Uploading additional files...\u001b[0m\n",
      "[jovian] Committed successfully! https://jovian.ai/warren-ball9/warrens-unemployment-project\u001b[0m\n"
     ]
    },
    {
     "data": {
      "text/plain": [
       "'https://jovian.ai/warren-ball9/warrens-unemployment-project'"
      ]
     },
     "execution_count": 45,
     "metadata": {},
     "output_type": "execute_result"
    }
   ],
   "source": [
    "jovian.commit()"
   ]
  },
  {
   "cell_type": "markdown",
   "metadata": {},
   "source": [
    "## Inferences and Conclusion\n",
    "\n",
    "Well, all my questions were inconclusive and the data set I used was missing a couple states. But this is what I expected more or less, what with working with such a large dataset and asking some general questions. This was more just to get a better idea of how unemployment worked. And I did come across something interesting which was that unemployment in adjacent areas seems to move in a similar pattern."
   ]
  },
  {
   "cell_type": "code",
   "execution_count": 46,
   "metadata": {},
   "outputs": [],
   "source": [
    "import jovian"
   ]
  },
  {
   "cell_type": "code",
   "execution_count": 47,
   "metadata": {},
   "outputs": [
    {
     "data": {
      "application/javascript": [
       "window.require && require([\"base/js/namespace\"],function(Jupyter){Jupyter.notebook.save_checkpoint()})"
      ],
      "text/plain": [
       "<IPython.core.display.Javascript object>"
      ]
     },
     "metadata": {},
     "output_type": "display_data"
    },
    {
     "name": "stdout",
     "output_type": "stream",
     "text": [
      "[jovian] Attempting to save notebook..\u001b[0m\n",
      "[jovian] Updating notebook \"warren-ball9/warrens-unemployment-project\" on https://jovian.ai\u001b[0m\n",
      "[jovian] Uploading notebook..\u001b[0m\n",
      "[jovian] Uploading additional files...\u001b[0m\n",
      "[jovian] Committed successfully! https://jovian.ai/warren-ball9/warrens-unemployment-project\u001b[0m\n"
     ]
    },
    {
     "data": {
      "text/plain": [
       "'https://jovian.ai/warren-ball9/warrens-unemployment-project'"
      ]
     },
     "execution_count": 47,
     "metadata": {},
     "output_type": "execute_result"
    }
   ],
   "source": [
    "jovian.commit()"
   ]
  },
  {
   "cell_type": "markdown",
   "metadata": {},
   "source": [
    "## References and Future Work\n",
    "\n",
    "The think once I can find more sophisticated ways of going through this giant data set, I can come back and improve upon this.\n",
    "The most invaluable resource I used by far was the pandas website.\n",
    "https://pandas.pydata.org/pandas-docs/stable/index.html"
   ]
  },
  {
   "cell_type": "code",
   "execution_count": 48,
   "metadata": {},
   "outputs": [],
   "source": [
    "import jovian"
   ]
  },
  {
   "cell_type": "code",
   "execution_count": null,
   "metadata": {
    "scrolled": true
   },
   "outputs": [
    {
     "data": {
      "application/javascript": [
       "window.require && require([\"base/js/namespace\"],function(Jupyter){Jupyter.notebook.save_checkpoint()})"
      ],
      "text/plain": [
       "<IPython.core.display.Javascript object>"
      ]
     },
     "metadata": {},
     "output_type": "display_data"
    },
    {
     "name": "stdout",
     "output_type": "stream",
     "text": [
      "[jovian] Attempting to save notebook..\u001b[0m\n"
     ]
    }
   ],
   "source": [
    "jovian.commit()"
   ]
  },
  {
   "cell_type": "code",
   "execution_count": null,
   "metadata": {},
   "outputs": [],
   "source": []
  }
 ],
 "metadata": {
  "language_info": {
   "codemirror_mode": {
    "name": "ipython",
    "version": 3
   },
   "file_extension": ".py",
   "mimetype": "text/x-python",
   "name": "python",
   "nbconvert_exporter": "python",
   "pygments_lexer": "ipython3",
   "version": "3.8.6"
  }
 },
 "nbformat": 4,
 "nbformat_minor": 4
}